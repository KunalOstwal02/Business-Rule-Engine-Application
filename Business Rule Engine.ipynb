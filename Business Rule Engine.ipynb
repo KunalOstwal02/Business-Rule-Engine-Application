{
 "cells": [
  {
   "cell_type": "code",
   "execution_count": null,
   "metadata": {},
   "outputs": [],
   "source": []
  },
  {
   "cell_type": "code",
   "execution_count": 1,
   "metadata": {},
   "outputs": [],
   "source": [
    "from business_rule_engine import RuleParser\n",
    "import pandas as pd"
   ]
  },
  {
   "cell_type": "code",
   "execution_count": 4,
   "metadata": {},
   "outputs": [
    {
     "data": {
      "text/plain": [
       "{'Rule Name': 'Amount_200',\n",
       " 'Condition_1': '>',\n",
       " '1_Condition': 160,\n",
       " 'Condition_2': '>',\n",
       " '2_Condition': 50,\n",
       " 'Action_1': 2000}"
      ]
     },
     "execution_count": 4,
     "metadata": {},
     "output_type": "execute_result"
    }
   ],
   "source": [
    "params = pd.read_excel('Student Dataframe.xls',).to_dict('records')\n",
    "cond = pd.read_excel('Student Dataframe.xls','rules').to_dict('records')\n",
    "pd.DataFrame().to_excel('output1.xls')\n",
    "cond[0]"
   ]
  },
  {
   "cell_type": "code",
   "execution_count": 3,
   "metadata": {},
   "outputs": [],
   "source": [
    "def append_df_to_excel(df,excel_path):\n",
    "    df_excel = pd.read_excel(excel_path)\n",
    "    result = pd.concat([df_excel, df], ignore_index=True)\n",
    "    result.to_excel(excel_path, index=False)\n",
    "\n",
    "    \n",
    "def scholarship(name, roll, total, att, amt):\n",
    "#     print(\"\"\"Roll No. {} {} is awarded {} in scholarship \n",
    "#     for achieving {} marks and {} days of attendance.\"\"\".format(roll, name, amt, total, att))\n",
    "    sch_result= pd.DataFrame([roll,name,total,att,amt],index=['Roll','Name','Total','Att','Amount'])\n",
    "    sch_result=sch_result.swapaxes('index','columns')\n",
    "    append_df_to_excel(sch_result,'output1.xls')\n"
   ]
  },
  {
   "cell_type": "code",
   "execution_count": 4,
   "metadata": {},
   "outputs": [],
   "source": [
    "rule_name=[]\n",
    "condition_1=[]\n",
    "value_1=[]\n",
    "condition_2=[]\n",
    "value_2=[]\n",
    "action_1=[]\n",
    "\n",
    "for variable in cond:\n",
    "    rule_name.append(variable['Rule Name'])\n",
    "    condition_1.append(variable['Condition_1'])\n",
    "    condition_2.append(variable['1_Condition'])\n",
    "    "
   ]
  },
  {
   "cell_type": "code",
   "execution_count": 5,
   "metadata": {},
   "outputs": [
    {
     "data": {
      "text/plain": [
       "'\\n\\nrule \"Amount_200\"\\nwhen\\n    AND(T > 160 , A > 50)\\nthen\\n    scholarship(Name, Roll, T, A, 2000)\\nend\\n\\nrule \"Amount_150\"\\nwhen\\n    AND(T > 140, A > 35)\\nthen\\n    scholarship(Name,Roll,T,A,1500)\\nend\\n\\nrule \"Amount_100\"\\nwhen\\n    AND(T > 120, A > 25)\\nthen\\n    scholarship(Name, Roll, T, A, 1000)\\nend \\n\\nrule \"Amount_0\"\\nwhen\\n    OR(T < 120, A < 25)\\nthen\\n    scholarship(Name, Roll, T, A, 0)\\nend \\n\\n'"
      ]
     },
     "execution_count": 5,
     "metadata": {},
     "output_type": "execute_result"
    }
   ],
   "source": [
    "rules = \"\"\"\n",
    "\n",
    "rule \"{0}\"\n",
    "when\n",
    "    AND(T {1} {2} , A {3} {4})\n",
    "then\n",
    "    scholarship(Name, Roll, T, A, {5})\n",
    "end\n",
    "\n",
    "rule \"{12}\"\n",
    "when\n",
    "    AND(T {13} {14}, A {15} {16})\n",
    "then\n",
    "    scholarship(Name,Roll,T,A,{17})\n",
    "end\n",
    "\n",
    "rule \"{6}\"\n",
    "when\n",
    "    AND(T {7} {8}, A {9} {10})\n",
    "then\n",
    "    scholarship(Name, Roll, T, A, {11})\n",
    "end \n",
    "\n",
    "rule \"{18}\"\n",
    "when\n",
    "    OR(T {19} {20}, A {21} {22})\n",
    "then\n",
    "    scholarship(Name, Roll, T, A, {23})\n",
    "end \n",
    "\n",
    "\"\"\".format(rule1,conditionM1,conditionM_value1,conditionA1,conditionA_value1,action1,rule2,conditionM2,conditionM_value2,conditionA2,conditionA_value2,action2,rule3,conditionM3,conditionM_value3,conditionA3,conditionA_value3,action3,rule4,conditionM4,conditionM_value4,conditionA4,conditionA_value4,action4)\n",
    "rules"
   ]
  },
  {
   "cell_type": "code",
   "execution_count": 6,
   "metadata": {},
   "outputs": [],
   "source": [
    "for x in params:\n",
    "    parser = RuleParser()\n",
    "    parser.register_function(scholarship)\n",
    "    parser.parsestr(rules)\n",
    "    parser.execute(x)"
   ]
  },
  {
   "cell_type": "code",
   "execution_count": null,
   "metadata": {},
   "outputs": [],
   "source": []
  }
 ],
 "metadata": {
  "kernelspec": {
   "display_name": "Python 3",
   "language": "python",
   "name": "python3"
  },
  "language_info": {
   "codemirror_mode": {
    "name": "ipython",
    "version": 3
   },
   "file_extension": ".py",
   "mimetype": "text/x-python",
   "name": "python",
   "nbconvert_exporter": "python",
   "pygments_lexer": "ipython3",
   "version": "3.8.3"
  }
 },
 "nbformat": 4,
 "nbformat_minor": 4
}
